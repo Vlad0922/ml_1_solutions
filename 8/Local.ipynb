{
 "cells": [
  {
   "cell_type": "code",
   "execution_count": 3,
   "metadata": {
    "collapsed": false
   },
   "outputs": [],
   "source": [
    "import numpy as np\n",
    "\n",
    "from tqdm import tqdm\n",
    "import progressbar\n",
    "\n",
    "from mpl_toolkits.mplot3d import Axes3D\n",
    "from matplotlib import cm\n",
    "from matplotlib.ticker import LinearLocator, FormatStrFormatter\n",
    "from sklearn.metrics.pairwise import manhattan_distances\n",
    "\n",
    "import pandas as pd\n",
    "\n",
    "import matplotlib.pyplot as plt\n",
    "import seaborn\n",
    "%matplotlib inline"
   ]
  },
  {
   "cell_type": "code",
   "execution_count": 23,
   "metadata": {
    "collapsed": true
   },
   "outputs": [],
   "source": [
    "def angle_between(p1, p2):\n",
    "    ang1 = np.arctan2(*p1[::-1])\n",
    "    ang2 = np.arctan2(*p2[::-1])\n",
    "    return np.rad2deg((ang1 - ang2) % (2 * np.pi))"
   ]
  },
  {
   "cell_type": "code",
   "execution_count": 4,
   "metadata": {
    "collapsed": false
   },
   "outputs": [],
   "source": [
    "data = pd.read_csv('tsp.csv', header=None).drop([0], axis=1)\n",
    "data.columns = ['x', 'y']"
   ]
  },
  {
   "cell_type": "code",
   "execution_count": 11,
   "metadata": {
    "collapsed": false
   },
   "outputs": [],
   "source": [
    "class Hillclimbing(object):\n",
    "    def __init__(self, max_iter=100, mutations_count=10, objects_to_mutate=10):\n",
    "        self.max_iter=max_iter\n",
    "        self.mutations_count=mutations_count\n",
    "        self.objects_to_mutate=objects_to_mutate\n",
    "    \n",
    "    def fit(self, data):\n",
    "        self.distance_ = manhattan_distances(data)\n",
    "        self.city_order = list(range(self.distance_.shape[0]))\n",
    "        self.cost = self.path_cost()\n",
    "        \n",
    "        for _ in tqdm(range(self.max_iter)):\n",
    "            step_res = list()\n",
    "            for _ in range(self.objects_to_mutate):\n",
    "                current_order = list(self.city_order)\n",
    "                for _ in range(self.mutations_count):\n",
    "                    i = np.random.randint(0, self.distance_.shape[0])\n",
    "                    j = np.random.randint(0, self.distance_.shape[0])\n",
    "                    \n",
    "                    self.swap_cities(current_order, i, j)\n",
    "                \n",
    "                current_cost = self.path_cost(current_order)\n",
    "                step_res.append((self.cost - current_cost, current_cost, current_order))\n",
    "            \n",
    "            step_res = sorted(step_res, reverse=True)\n",
    "            if step_res[0][0] > 0:\n",
    "                self.cost, self.city_order = step_res[0][1], step_res[0][2]\n",
    "        \n",
    "    @staticmethod\n",
    "    def swap_cities(cities, i, j):\n",
    "        cities[i], cities[j] = cities[j], cities[i]\n",
    "    \n",
    "    def path_cost(self, cities=None):\n",
    "        if cities is None:\n",
    "            cities = self.city_order\n",
    "            \n",
    "        return np.sum([self.distance_[i, j] for (i, j) in zip(cities[:-1], cities[1:])])"
   ]
  },
  {
   "cell_type": "code",
   "execution_count": 14,
   "metadata": {
    "collapsed": false
   },
   "outputs": [
    {
     "name": "stderr",
     "output_type": "stream",
     "text": [
      "100%|██████████| 100000/100000 [01:16<00:00, 1303.72it/s]\n"
     ]
    }
   ],
   "source": [
    "hc = Hillclimbing(max_iter=100000)\n",
    "hc.fit(data)"
   ]
  },
  {
   "cell_type": "code",
   "execution_count": 29,
   "metadata": {
    "collapsed": false
   },
   "outputs": [
    {
     "name": "stdout",
     "output_type": "stream",
     "text": [
      "76.3356968137\n"
     ]
    }
   ],
   "source": []
  },
  {
   "cell_type": "code",
   "execution_count": 47,
   "metadata": {
    "collapsed": false
   },
   "outputs": [],
   "source": [
    "def plot_manhattan(p1, p2):\n",
    "    angle = angle_between(p1, p2)\n",
    "    \n",
    "    if (angle >= 0 and angle < 90) or (angle >= 180 and angle < 270):\n",
    "        plt.plot([p1[0], p2[0]], [p1[1], p1[1]], color='red')\n",
    "        plt.plot([p2[0], p2[0]], [p1[1], p2[1]], color='red')\n",
    "    elif (angle >= 90 and angle < 180) or (angle >= 270 and angle < 360):\n",
    "        plt.plot([p1[0], p1[0]], [p1[1], p2[1]], color='red')\n",
    "        plt.plot([p1[0], p2[0]], [p2[1], p2[1]], color='red')   "
   ]
  },
  {
   "cell_type": "code",
   "execution_count": null,
   "metadata": {
    "collapsed": false
   },
   "outputs": [],
   "source": []
  },
  {
   "cell_type": "code",
   "execution_count": 49,
   "metadata": {
    "collapsed": false
   },
   "outputs": [
    {
     "data": {
      "text/plain": [
       "<matplotlib.text.Text at 0x7fef8f076890>"
      ]
     },
     "execution_count": 49,
     "metadata": {},
     "output_type": "execute_result"
    },
    {
     "data": {
      "image/png": "[encoded data removed]",
      "text/plain": [
       "<matplotlib.figure.Figure at 0x7fef8f10a950>"
      ]
     },
     "metadata": {},
     "output_type": "display_data"
    }
   ],
   "source": [
    "plt.figure(figsize=(15,10))\n",
    "plt.scatter(data['x'], data['y'])\n",
    "for p, n in zip(hc.city_order[:-1], hc.city_order[1:]):\n",
    "    p_x, p_y = data.loc[p,]['x'], data.loc[p,]['y']\n",
    "    n_x, n_y = data.loc[n,]['x'], data.loc[n,]['y']\n",
    "    \n",
    "#     plt.plot([p_x, n_x], [p_y, n_y], color='red')\n",
    "    plot_manhattan((p_x, p_y), (n_x, n_y))\n",
    "plt.title('Hill climbing path, cost={}'.format(hc.cost))"
   ]
  },
  {
   "cell_type": "code",
   "execution_count": 55,
   "metadata": {
    "collapsed": false
   },
   "outputs": [],
   "source": [
    "class Annealing(object):\n",
    "    def __init__(self, temp = 100., alpha=0.005, mut_rate=10):\n",
    "        self.alpha = alpha\n",
    "        self.tempreture = temp\n",
    "        self.mutation_rate=mut_rate\n",
    "    \n",
    "    def fit(self, data):\n",
    "        current_temp = self.tempreture\n",
    "        self.distance_ = manhattan_distances(data)\n",
    "        self.city_order = list(range(self.distance_.shape[0]))\n",
    "        self.cost = self.path_cost()\n",
    "        \n",
    "        while current_temp > 1.:\n",
    "            current_order = list(self.city_order)\n",
    "            step_res = list()\n",
    "            for _ in range(self.mutation_rate):\n",
    "                i = np.random.randint(0, self.distance_.shape[0])\n",
    "                j = np.random.randint(0, self.distance_.shape[0])\n",
    "\n",
    "                self.swap_cities(current_order, i, j)\n",
    "                \n",
    "            current_cost = self.path_cost(current_order)\n",
    "            if current_cost < self.cost:\n",
    "                self.city_order = current_order\n",
    "                self.cost = current_cost\n",
    "            else:\n",
    "                current_temp *= (1 - self.alpha)\n",
    "        \n",
    "    @staticmethod\n",
    "    def swap_cities(cities, i, j):\n",
    "        cities[i], cities[j] = cities[j], cities[i]\n",
    "    \n",
    "    def path_cost(self, cities=None):\n",
    "        if cities is None:\n",
    "            cities = self.city_order\n",
    "            \n",
    "        return np.sum([self.distance_[i, j] for (i, j) in zip(cities[:-1], cities[1:])])"
   ]
  },
  {
   "cell_type": "code",
   "execution_count": 58,
   "metadata": {
    "collapsed": false
   },
   "outputs": [],
   "source": [
    "ann = Annealing(alpha=0.00005, temp=1000.)\n",
    "ann.fit(data)"
   ]
  },
  {
   "cell_type": "code",
   "execution_count": 59,
   "metadata": {
    "collapsed": false
   },
   "outputs": [
    {
     "data": {
      "text/plain": [
       "20045.0"
      ]
     },
     "execution_count": 59,
     "metadata": {},
     "output_type": "execute_result"
    }
   ],
   "source": [
    "ann.path_cost()"
   ]
  },
  {
   "cell_type": "code",
   "execution_count": 62,
   "metadata": {
    "collapsed": false
   },
   "outputs": [
    {
     "data": {
      "text/plain": [
       "<matplotlib.text.Text at 0x7fef8ebb1850>"
      ]
     },
     "execution_count": 62,
     "metadata": {},
     "output_type": "execute_result"
    },
    {
     "data": {
      "image/png": "[encoded data removed]",
      "text/plain": [
       "<matplotlib.figure.Figure at 0x7fef8ec7ed10>"
      ]
     },
     "metadata": {},
     "output_type": "display_data"
    }
   ],
   "source": [
    "plt.figure(figsize=(15,10))\n",
    "plt.scatter(data['x'], data['y'])\n",
    "for p, n in zip(ann.city_order[:-1], ann.city_order[1:]):\n",
    "    p_x, p_y = data.loc[p,]['x'], data.loc[p,]['y']\n",
    "    n_x, n_y = data.loc[n,]['x'], data.loc[n,]['y']\n",
    "    \n",
    "    plot_manhattan([p_x, p_y], [n_x, n_y])\n",
    "plt.title('Annealing path, cost={}'.format(ann.cost))"
   ]
  },
  {
   "cell_type": "code",
   "execution_count": 78,
   "metadata": {
    "collapsed": false
   },
   "outputs": [],
   "source": [
    "class Genetic(object):\n",
    "    def __init__(self, max_iter=100, mutations_count=10, candidates=10, surv_rate=0.25):\n",
    "        self.max_iter=max_iter\n",
    "        self.candidates=candidates\n",
    "        self.survaviors_count=int(candidates*surv_rate)\n",
    "        self.mutations_count=mutations_count\n",
    "    \n",
    "    def fit(self, data):\n",
    "        self.distance_ = manhattan_distances(data)\n",
    "        \n",
    "        survaviors = [self.random_order() for _ in range(self.candidates)]\n",
    "        progress = progressbar.ProgressBar()\n",
    "        for _ in progress(range(self.max_iter)):                \n",
    "            survaviors = sorted(survaviors, key = lambda s: self.path_cost(s))[:self.survaviors_count]\n",
    "            while len(survaviors) < self.candidates:\n",
    "                i = np.random.randint(0, self.survaviors_count)\n",
    "                j = np.random.randint(0, self.survaviors_count)\n",
    "                \n",
    "                survaviors.append(self.cross(survaviors[i], survaviors[j]))\n",
    "                \n",
    "        self.city_order = survaviors[0]\n",
    "        self.cost = self.path_cost()\n",
    "    \n",
    "    @staticmethod\n",
    "    def cross(first, second):\n",
    "        first = np.array(first)\n",
    "        second = np.array(second)\n",
    "        mask = np.random.binomial(1, 0.5, size=len(first)).astype(bool)\n",
    "        \n",
    "        res = np.array([None]*first.shape[0])\n",
    "        res[mask] = first[mask]\n",
    "        j = 0\n",
    "        for i in range(res.shape[0]):\n",
    "            if res[i] is None:\n",
    "                while j < second.shape[0]:\n",
    "                    if second[j] not in res:\n",
    "                        res[i] = second[j]\n",
    "                        j += 1\n",
    "                        break\n",
    "                    j += 1\n",
    "        \n",
    "        return res               \n",
    "                \n",
    "    def random_order(self):\n",
    "        return list(np.random.permutation(self.distance_.shape[0]))\n",
    "                \n",
    "    @staticmethod\n",
    "    def swap_cities(cities, i, j):\n",
    "        cities[i], cities[j] = cities[j], cities[i]\n",
    "    \n",
    "    def path_cost(self, cities=None):\n",
    "        if cities is None:\n",
    "            cities = self.city_order\n",
    "            \n",
    "        return np.sum([self.distance_[i, j] for (i, j) in zip(cities[:-1], cities[1:])])"
   ]
  },
  {
   "cell_type": "code",
   "execution_count": 88,
   "metadata": {
    "collapsed": false
   },
   "outputs": [
    {
     "name": "stderr",
     "output_type": "stream",
     "text": [
      "100% |########################################################################|\n"
     ]
    }
   ],
   "source": [
    "gen = Genetic(max_iter=100000, mutations_count=10, candidates=30, surv_rate=0.5)\n",
    "gen.fit(data)"
   ]
  },
  {
   "cell_type": "code",
   "execution_count": 93,
   "metadata": {
    "collapsed": false
   },
   "outputs": [
    {
     "data": {
      "text/plain": [
       "21990.0"
      ]
     },
     "execution_count": 93,
     "metadata": {},
     "output_type": "execute_result"
    }
   ],
   "source": [
    "gen.path_cost()"
   ]
  },
  {
   "cell_type": "code",
   "execution_count": 94,
   "metadata": {
    "collapsed": false
   },
   "outputs": [
    {
     "data": {
      "text/plain": [
       "<matplotlib.text.Text at 0x7fef8e3bec50>"
      ]
     },
     "execution_count": 94,
     "metadata": {},
     "output_type": "execute_result"
    },
    {
     "data": {
      "image/png": "[encoded data removed]",
      "text/plain": [
       "<matplotlib.figure.Figure at 0x7fef8e47ae50>"
      ]
     },
     "metadata": {},
     "output_type": "display_data"
    }
   ],
   "source": [
    "plt.figure(figsize=(15,10))\n",
    "plt.scatter(data['x'], data['y'])\n",
    "for p, n in zip(gen.city_order[:-1], gen.city_order[1:]):\n",
    "    p_x, p_y = data.loc[p,]['x'], data.loc[p,]['y']\n",
    "    n_x, n_y = data.loc[n,]['x'], data.loc[n,]['y']\n",
    "    \n",
    "    plot_manhattan([p_x, p_y], [n_x, n_y])\n",
    "plt.title('Genetic path, cost={}'.format(gen.cost))"
   ]
  },
  {
   "cell_type": "code",
   "execution_count": null,
   "metadata": {
    "collapsed": false
   },
   "outputs": [],
   "source": []
  },
  {
   "cell_type": "code",
   "execution_count": null,
   "metadata": {
    "collapsed": true
   },
   "outputs": [],
   "source": []
  },
  {
   "cell_type": "code",
   "execution_count": null,
   "metadata": {
    "collapsed": false
   },
   "outputs": [],
   "source": []
  },
  {
   "cell_type": "code",
   "execution_count": null,
   "metadata": {
    "collapsed": true
   },
   "outputs": [],
   "source": []
  }
 ],
 "metadata": {
  "kernelspec": {
   "display_name": "Python 2",
   "language": "python",
   "name": "python2"
  },
  "language_info": {
   "codemirror_mode": {
    "name": "ipython",
    "version": 2
   },
   "file_extension": ".py",
   "mimetype": "text/x-python",
   "name": "python",
   "nbconvert_exporter": "python",
   "pygments_lexer": "ipython2",
   "version": "2.7.13"
  }
 },
 "nbformat": 4,
 "nbformat_minor": 2
}
