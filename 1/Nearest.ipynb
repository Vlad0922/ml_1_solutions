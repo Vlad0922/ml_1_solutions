{
 "cells": [
  {
   "cell_type": "code",
   "execution_count": 1,
   "metadata": {
    "collapsed": true
   },
   "outputs": [],
   "source": [
    "import numpy as np\n",
    "import pandas as pd\n",
    "\n",
    "import progressbar\n",
    "\n",
    "import heapq\n",
    "from collections import defaultdict\n",
    "\n",
    "from matplotlib import pyplot as plt\n",
    "%matplotlib inline\n",
    "\n",
    "from sklearn.neighbors import KNeighborsClassifier\n",
    "from sklearn.model_selection import LeaveOneOut, cross_val_score\n",
    "from sklearn.preprocessing import normalize"
   ]
  },
  {
   "cell_type": "code",
   "execution_count": 31,
   "metadata": {
    "collapsed": false
   },
   "outputs": [],
   "source": [
    "def euclidian_distance(x, y):\n",
    "    return np.linalg.norm(x-y)\n",
    "\n",
    "class NearestModel:\n",
    "    def __init__(self, k):\n",
    "        self.k = k\n",
    "           \n",
    "    def train(self, X, y):\n",
    "        self.X = X\n",
    "        self.y = y\n",
    "    \n",
    "    def predict(self, values):\n",
    "        return [self.predict_one(v) for v in values]\n",
    "    \n",
    "    def predict_one(self, value):\n",
    "        nearest = self._find_k_nearest(self.X, value, self.k)\n",
    "        weights = defaultdict(lambda : 0.)\n",
    "        \n",
    "        for n in nearest:\n",
    "            weights[self.y[n[1]]] += n[0]\n",
    "        \n",
    "        return max(weights, key=weights.get)\n",
    "    \n",
    "class KNN_model(NearestModel):\n",
    "    def _find_k_nearest(self, data, x, k):\n",
    "        data = sorted([(euclidian_distance(x, y), idx) for idx, y in enumerate(data)], key=lambda x: x[0])\n",
    "        return [(1/(1+v[0]), v[1]) for v in data[:k]]\n",
    "    \n",
    "class RNN_model(NearestModel):\n",
    "    def _find_k_nearest(self, data, x, r):\n",
    "        data = [(euclidian_distance(x, y), idx) for idx, y in enumerate(data) if euclidian_distance(x, y) <= r]    \n",
    "        return [(1/(1+v[0]), v[1]) for v in data]\n",
    "    \n",
    "    def predict_one(self, value):\n",
    "        nearest = self._find_k_nearest(self.X, value, self.k)\n",
    "        \n",
    "        if len(nearest) == 0:\n",
    "            return -1\n",
    "        \n",
    "        weights = defaultdict(lambda : 0.)\n",
    "        \n",
    "        for n in nearest:\n",
    "            weights[self.y[n[1]]] += n[0]\n",
    "        \n",
    "        return max(weights, key=weights.get)"
   ]
  },
  {
   "cell_type": "code",
   "execution_count": 6,
   "metadata": {
    "collapsed": false
   },
   "outputs": [],
   "source": [
    "def leave_one_out(model, X, y):\n",
    "    correct = 0\n",
    "    bar = progressbar.ProgressBar(widgets=[\n",
    "    ' [', progressbar.Timer(), '] ', progressbar.Percentage(),\n",
    "    progressbar.Bar(),\n",
    "    ' (', progressbar.ETA(), ') ',\n",
    "    ])\n",
    "    for idx in bar(xrange(len(X))):\n",
    "        X_test = X[idx]\n",
    "        y_test = y[idx]\n",
    "        \n",
    "        X_train = np.delete(X, (idx), axis=0)\n",
    "        y_train = np.delete(y, (idx), axis=0)\n",
    "        \n",
    "        model.train(X_train, y_train)\n",
    "        res = model.predict_one(X_test)\n",
    "        if res == y_test:\n",
    "            correct += 1\n",
    "    \n",
    "    return 1.*correct/len(y)"
   ]
  },
  {
   "cell_type": "code",
   "execution_count": 7,
   "metadata": {
    "collapsed": false
   },
   "outputs": [
    {
     "data": {
      "text/html": [
       "<div>\n",
       "<table border=\"1\" class=\"dataframe\">\n",
       "  <thead>\n",
       "    <tr style=\"text-align: right;\">\n",
       "      <th></th>\n",
       "      <th>word_freq_make</th>\n",
       "      <th>word_freq_address</th>\n",
       "      <th>word_freq_all</th>\n",
       "      <th>word_freq_3d</th>\n",
       "      <th>word_freq_our</th>\n",
       "      <th>word_freq_over</th>\n",
       "      <th>word_freq_remove</th>\n",
       "      <th>word_freq_internet</th>\n",
       "      <th>word_freq_order</th>\n",
       "      <th>word_freq_mail</th>\n",
       "      <th>...</th>\n",
       "      <th>char_freq_:</th>\n",
       "      <th>char_freq_(</th>\n",
       "      <th>char_freq_[</th>\n",
       "      <th>char_freq_!</th>\n",
       "      <th>char_freq_$</th>\n",
       "      <th>char_freq_#</th>\n",
       "      <th>capital_run_length_average</th>\n",
       "      <th>capital_run_length_longest</th>\n",
       "      <th>capital_run_length_total</th>\n",
       "      <th>label</th>\n",
       "    </tr>\n",
       "  </thead>\n",
       "  <tbody>\n",
       "    <tr>\n",
       "      <th>0</th>\n",
       "      <td>0.00</td>\n",
       "      <td>0.64</td>\n",
       "      <td>0.64</td>\n",
       "      <td>0.0</td>\n",
       "      <td>0.32</td>\n",
       "      <td>0.00</td>\n",
       "      <td>0.00</td>\n",
       "      <td>0.00</td>\n",
       "      <td>0.00</td>\n",
       "      <td>0.00</td>\n",
       "      <td>...</td>\n",
       "      <td>0.00</td>\n",
       "      <td>0.000</td>\n",
       "      <td>0.0</td>\n",
       "      <td>0.778</td>\n",
       "      <td>0.000</td>\n",
       "      <td>0.000</td>\n",
       "      <td>3.756</td>\n",
       "      <td>61</td>\n",
       "      <td>278</td>\n",
       "      <td>1</td>\n",
       "    </tr>\n",
       "    <tr>\n",
       "      <th>1</th>\n",
       "      <td>0.21</td>\n",
       "      <td>0.28</td>\n",
       "      <td>0.50</td>\n",
       "      <td>0.0</td>\n",
       "      <td>0.14</td>\n",
       "      <td>0.28</td>\n",
       "      <td>0.21</td>\n",
       "      <td>0.07</td>\n",
       "      <td>0.00</td>\n",
       "      <td>0.94</td>\n",
       "      <td>...</td>\n",
       "      <td>0.00</td>\n",
       "      <td>0.132</td>\n",
       "      <td>0.0</td>\n",
       "      <td>0.372</td>\n",
       "      <td>0.180</td>\n",
       "      <td>0.048</td>\n",
       "      <td>5.114</td>\n",
       "      <td>101</td>\n",
       "      <td>1028</td>\n",
       "      <td>1</td>\n",
       "    </tr>\n",
       "    <tr>\n",
       "      <th>2</th>\n",
       "      <td>0.06</td>\n",
       "      <td>0.00</td>\n",
       "      <td>0.71</td>\n",
       "      <td>0.0</td>\n",
       "      <td>1.23</td>\n",
       "      <td>0.19</td>\n",
       "      <td>0.19</td>\n",
       "      <td>0.12</td>\n",
       "      <td>0.64</td>\n",
       "      <td>0.25</td>\n",
       "      <td>...</td>\n",
       "      <td>0.01</td>\n",
       "      <td>0.143</td>\n",
       "      <td>0.0</td>\n",
       "      <td>0.276</td>\n",
       "      <td>0.184</td>\n",
       "      <td>0.010</td>\n",
       "      <td>9.821</td>\n",
       "      <td>485</td>\n",
       "      <td>2259</td>\n",
       "      <td>1</td>\n",
       "    </tr>\n",
       "    <tr>\n",
       "      <th>3</th>\n",
       "      <td>0.00</td>\n",
       "      <td>0.00</td>\n",
       "      <td>0.00</td>\n",
       "      <td>0.0</td>\n",
       "      <td>0.63</td>\n",
       "      <td>0.00</td>\n",
       "      <td>0.31</td>\n",
       "      <td>0.63</td>\n",
       "      <td>0.31</td>\n",
       "      <td>0.63</td>\n",
       "      <td>...</td>\n",
       "      <td>0.00</td>\n",
       "      <td>0.137</td>\n",
       "      <td>0.0</td>\n",
       "      <td>0.137</td>\n",
       "      <td>0.000</td>\n",
       "      <td>0.000</td>\n",
       "      <td>3.537</td>\n",
       "      <td>40</td>\n",
       "      <td>191</td>\n",
       "      <td>1</td>\n",
       "    </tr>\n",
       "    <tr>\n",
       "      <th>4</th>\n",
       "      <td>0.00</td>\n",
       "      <td>0.00</td>\n",
       "      <td>0.00</td>\n",
       "      <td>0.0</td>\n",
       "      <td>0.63</td>\n",
       "      <td>0.00</td>\n",
       "      <td>0.31</td>\n",
       "      <td>0.63</td>\n",
       "      <td>0.31</td>\n",
       "      <td>0.63</td>\n",
       "      <td>...</td>\n",
       "      <td>0.00</td>\n",
       "      <td>0.135</td>\n",
       "      <td>0.0</td>\n",
       "      <td>0.135</td>\n",
       "      <td>0.000</td>\n",
       "      <td>0.000</td>\n",
       "      <td>3.537</td>\n",
       "      <td>40</td>\n",
       "      <td>191</td>\n",
       "      <td>1</td>\n",
       "    </tr>\n",
       "  </tbody>\n",
       "</table>\n",
       "<p>5 rows × 58 columns</p>\n",
       "</div>"
      ],
      "text/plain": [
       "   word_freq_make  word_freq_address  word_freq_all  word_freq_3d  \\\n",
       "0            0.00               0.64           0.64           0.0   \n",
       "1            0.21               0.28           0.50           0.0   \n",
       "2            0.06               0.00           0.71           0.0   \n",
       "3            0.00               0.00           0.00           0.0   \n",
       "4            0.00               0.00           0.00           0.0   \n",
       "\n",
       "   word_freq_our  word_freq_over  word_freq_remove  word_freq_internet  \\\n",
       "0           0.32            0.00              0.00                0.00   \n",
       "1           0.14            0.28              0.21                0.07   \n",
       "2           1.23            0.19              0.19                0.12   \n",
       "3           0.63            0.00              0.31                0.63   \n",
       "4           0.63            0.00              0.31                0.63   \n",
       "\n",
       "   word_freq_order  word_freq_mail  ...    char_freq_:  char_freq_(  \\\n",
       "0             0.00            0.00  ...           0.00        0.000   \n",
       "1             0.00            0.94  ...           0.00        0.132   \n",
       "2             0.64            0.25  ...           0.01        0.143   \n",
       "3             0.31            0.63  ...           0.00        0.137   \n",
       "4             0.31            0.63  ...           0.00        0.135   \n",
       "\n",
       "   char_freq_[  char_freq_!  char_freq_$  char_freq_#  \\\n",
       "0          0.0        0.778        0.000        0.000   \n",
       "1          0.0        0.372        0.180        0.048   \n",
       "2          0.0        0.276        0.184        0.010   \n",
       "3          0.0        0.137        0.000        0.000   \n",
       "4          0.0        0.135        0.000        0.000   \n",
       "\n",
       "   capital_run_length_average  capital_run_length_longest  \\\n",
       "0                       3.756                          61   \n",
       "1                       5.114                         101   \n",
       "2                       9.821                         485   \n",
       "3                       3.537                          40   \n",
       "4                       3.537                          40   \n",
       "\n",
       "   capital_run_length_total  label  \n",
       "0                       278      1  \n",
       "1                      1028      1  \n",
       "2                      2259      1  \n",
       "3                       191      1  \n",
       "4                       191      1  \n",
       "\n",
       "[5 rows x 58 columns]"
      ]
     },
     "execution_count": 7,
     "metadata": {},
     "output_type": "execute_result"
    }
   ],
   "source": [
    "data = pd.read_csv('spambase.csv')\n",
    "data.head()"
   ]
  },
  {
   "cell_type": "code",
   "execution_count": 8,
   "metadata": {
    "collapsed": false
   },
   "outputs": [],
   "source": [
    "X = data.drop(['label'], axis=1).as_matrix()\n",
    "y = data['label'].as_matrix()"
   ]
  },
  {
   "cell_type": "code",
   "execution_count": 9,
   "metadata": {
    "collapsed": false
   },
   "outputs": [],
   "source": [
    "def compare_models(X, y, k_values):\n",
    "    knn_res = list()\n",
    "    rnn_res = list()\n",
    "    sk_res = list()\n",
    "    for k in k_values:\n",
    "        print 'LOO for with k={}'.format(k)\n",
    "        model = KNN_model(k)\n",
    "        knn_acc = leave_one_out(model, X, Y)\n",
    "        \n",
    "        model = RNN_model(k*100)\n",
    "        rnn_acc = leave_one_out(model, X, Y)\n",
    "        \n",
    "        sk_clf = KNeighborsClassifier(k)\n",
    "        loo = LeaveOneOut()\n",
    "        sk_acc = np.mean(cross_val_score(sk_clf, X, Y, cv = loo, n_jobs=4))\n",
    "        \n",
    "        knn_res.append(knn_acc)\n",
    "        rnn_res.append(rnn_acc)\n",
    "        sk_res.append(sk_acc)\n",
    "    \n",
    "    plt.plot(k_values, knn_res, label='knn model')\n",
    "    plt.plot(k_values, rnn_res, label='rnn model')\n",
    "    plt.plot(k_values, sk_res, label='scikit model')\n",
    "    plt.legend()"
   ]
  },
  {
   "cell_type": "code",
   "execution_count": 292,
   "metadata": {
    "collapsed": false
   },
   "outputs": [
    {
     "name": "stdout",
     "output_type": "stream",
     "text": [
      "LOO for with k=1\n"
     ]
    },
    {
     "name": "stderr",
     "output_type": "stream",
     "text": [
      " [Elapsed Time: 0:03:34] 100%|###############################| (Time: 0:03:34) \n",
      " [Elapsed Time: 0:04:55] 100%|###############################| (Time: 0:04:55) \n"
     ]
    },
    {
     "name": "stdout",
     "output_type": "stream",
     "text": [
      "LOO for with k=2\n"
     ]
    },
    {
     "name": "stderr",
     "output_type": "stream",
     "text": [
      " [Elapsed Time: 0:03:41] 100%|###############################| (Time: 0:03:41) \n",
      " [Elapsed Time: 0:05:38] 100%|###############################| (Time: 0:05:38) \n"
     ]
    },
    {
     "name": "stdout",
     "output_type": "stream",
     "text": [
      "LOO for with k=3\n"
     ]
    },
    {
     "name": "stderr",
     "output_type": "stream",
     "text": [
      " [Elapsed Time: 0:03:41] 100%|###############################| (Time: 0:03:41) \n",
      " [Elapsed Time: 0:05:59] 100%|###############################| (Time: 0:05:59) \n"
     ]
    },
    {
     "name": "stdout",
     "output_type": "stream",
     "text": [
      "LOO for with k=4\n"
     ]
    },
    {
     "name": "stderr",
     "output_type": "stream",
     "text": [
      " [Elapsed Time: 0:03:43] 100%|###############################| (Time: 0:03:43) \n",
      " [Elapsed Time: 0:06:13] 100%|###############################| (Time: 0:06:13) \n"
     ]
    },
    {
     "name": "stdout",
     "output_type": "stream",
     "text": [
      "LOO for with k=5\n"
     ]
    },
    {
     "name": "stderr",
     "output_type": "stream",
     "text": [
      " [Elapsed Time: 0:03:44] 100%|###############################| (Time: 0:03:44) \n",
      " [Elapsed Time: 0:06:29] 100%|###############################| (Time: 0:06:29) \n"
     ]
    },
    {
     "name": "stdout",
     "output_type": "stream",
     "text": [
      "LOO for with k=6\n"
     ]
    },
    {
     "name": "stderr",
     "output_type": "stream",
     "text": [
      " [Elapsed Time: 0:03:42] 100%|###############################| (Time: 0:03:42) \n",
      " [Elapsed Time: 0:06:33] 100%|###############################| (Time: 0:06:33) \n"
     ]
    },
    {
     "name": "stdout",
     "output_type": "stream",
     "text": [
      "LOO for with k=7\n"
     ]
    },
    {
     "name": "stderr",
     "output_type": "stream",
     "text": [
      " [Elapsed Time: 0:03:42] 100%|###############################| (Time: 0:03:42) \n",
      " [Elapsed Time: 0:06:43] 100%|###############################| (Time: 0:06:43) \n"
     ]
    },
    {
     "name": "stdout",
     "output_type": "stream",
     "text": [
      "LOO for with k=8\n"
     ]
    },
    {
     "name": "stderr",
     "output_type": "stream",
     "text": [
      " [Elapsed Time: 0:03:46] 100%|###############################| (Time: 0:03:46) \n",
      " [Elapsed Time: 0:06:45] 100%|###############################| (Time: 0:06:45) \n"
     ]
    },
    {
     "name": "stdout",
     "output_type": "stream",
     "text": [
      "LOO for with k=9\n"
     ]
    },
    {
     "name": "stderr",
     "output_type": "stream",
     "text": [
      " [Elapsed Time: 0:03:44] 100%|###############################| (Time: 0:03:44) \n",
      " [Elapsed Time: 0:06:42] 100%|###############################| (Time: 0:06:42) \n"
     ]
    },
    {
     "name": "stdout",
     "output_type": "stream",
     "text": [
      "LOO for with k=10\n"
     ]
    },
    {
     "name": "stderr",
     "output_type": "stream",
     "text": [
      " [Elapsed Time: 0:03:39] 100%|###############################| (Time: 0:03:39) \n",
      " [Elapsed Time: 0:06:50] 100%|###############################| (Time: 0:06:50) \n"
     ]
    },
    {
     "data": {
      "image/png": "[encoded data removed]",
      "text/plain": [
       "<matplotlib.figure.Figure at 0x7fa7d796a990>"
      ]
     },
     "metadata": {},
     "output_type": "display_data"
    }
   ],
   "source": [
    "k_values = range(1, 11)\n",
    "compare_models(X, y, k_values)"
   ]
  },
  {
   "cell_type": "code",
   "execution_count": 299,
   "metadata": {
    "collapsed": false
   },
   "outputs": [
    {
     "name": "stdout",
     "output_type": "stream",
     "text": [
      "LOO for with k=1\n"
     ]
    },
    {
     "name": "stderr",
     "output_type": "stream",
     "text": [
      " [Elapsed Time: 0:03:44] 100%|###############################| (Time: 0:03:44) \n",
      " [Elapsed Time: 0:07:23] 100%|###############################| (Time: 0:07:23) \n"
     ]
    },
    {
     "name": "stdout",
     "output_type": "stream",
     "text": [
      "LOO for with k=2\n"
     ]
    },
    {
     "name": "stderr",
     "output_type": "stream",
     "text": [
      " [Elapsed Time: 0:03:46] 100%|###############################| (Time: 0:03:46) \n",
      " [Elapsed Time: 0:07:27] 100%|###############################| (Time: 0:07:27) \n"
     ]
    },
    {
     "name": "stdout",
     "output_type": "stream",
     "text": [
      "LOO for with k=3\n"
     ]
    },
    {
     "name": "stderr",
     "output_type": "stream",
     "text": [
      " [Elapsed Time: 0:03:46] 100%|###############################| (Time: 0:03:46) \n",
      " [Elapsed Time: 0:07:27] 100%|###############################| (Time: 0:07:27) \n"
     ]
    },
    {
     "name": "stdout",
     "output_type": "stream",
     "text": [
      "LOO for with k=4\n"
     ]
    },
    {
     "name": "stderr",
     "output_type": "stream",
     "text": [
      " [Elapsed Time: 0:03:44] 100%|###############################| (Time: 0:03:44) \n",
      " [Elapsed Time: 0:07:21] 100%|###############################| (Time: 0:07:21) \n"
     ]
    },
    {
     "name": "stdout",
     "output_type": "stream",
     "text": [
      "LOO for with k=5\n"
     ]
    },
    {
     "name": "stderr",
     "output_type": "stream",
     "text": [
      " [Elapsed Time: 0:03:45] 100%|###############################| (Time: 0:03:45) \n",
      " [Elapsed Time: 0:07:26] 100%|###############################| (Time: 0:07:26) \n"
     ]
    },
    {
     "name": "stdout",
     "output_type": "stream",
     "text": [
      "LOO for with k=6\n"
     ]
    },
    {
     "name": "stderr",
     "output_type": "stream",
     "text": [
      " [Elapsed Time: 0:03:47] 100%|###############################| (Time: 0:03:47) \n",
      " [Elapsed Time: 0:07:23] 100%|###############################| (Time: 0:07:23) \n"
     ]
    },
    {
     "name": "stdout",
     "output_type": "stream",
     "text": [
      "LOO for with k=7\n"
     ]
    },
    {
     "name": "stderr",
     "output_type": "stream",
     "text": [
      " [Elapsed Time: 0:03:45] 100%|###############################| (Time: 0:03:45) \n",
      " [Elapsed Time: 0:07:28] 100%|###############################| (Time: 0:07:28) \n"
     ]
    },
    {
     "name": "stdout",
     "output_type": "stream",
     "text": [
      "LOO for with k=8\n"
     ]
    },
    {
     "name": "stderr",
     "output_type": "stream",
     "text": [
      " [Elapsed Time: 0:03:37] 100%|###############################| (Time: 0:03:37) \n",
      " [Elapsed Time: 0:07:15] 100%|###############################| (Time: 0:07:15) \n"
     ]
    },
    {
     "name": "stdout",
     "output_type": "stream",
     "text": [
      "LOO for with k=9\n"
     ]
    },
    {
     "name": "stderr",
     "output_type": "stream",
     "text": [
      " [Elapsed Time: 0:03:41] 100%|###############################| (Time: 0:03:41) \n",
      " [Elapsed Time: 0:07:13] 100%|###############################| (Time: 0:07:13) \n"
     ]
    },
    {
     "name": "stdout",
     "output_type": "stream",
     "text": [
      "LOO for with k=10\n"
     ]
    },
    {
     "name": "stderr",
     "output_type": "stream",
     "text": [
      " [Elapsed Time: 0:03:40] 100%|###############################| (Time: 0:03:40) \n",
      " [Elapsed Time: 0:07:10] 100%|###############################| (Time: 0:07:10) \n"
     ]
    },
    {
     "data": {
      "image/png": "[encoded data removed]",
      "text/plain": [
       "<matplotlib.figure.Figure at 0x7fa7d799ae10>"
      ]
     },
     "metadata": {},
     "output_type": "display_data"
    }
   ],
   "source": [
    "compare_models(normalize(X), y, k_values)"
   ]
  },
  {
   "cell_type": "code",
   "execution_count": null,
   "metadata": {
    "collapsed": false
   },
   "outputs": [],
   "source": []
  },
  {
   "cell_type": "code",
   "execution_count": 56,
   "metadata": {
    "collapsed": false
   },
   "outputs": [],
   "source": [
    "def find_radius_(X, y, lower, upper, lower_res, upper_res, radius_res):\n",
    "    mid = lower + (upper-lower)/2\n",
    "    if upper - lower < 0.5:\n",
    "        return mid\n",
    "    \n",
    "    model = RNN_model(mid)\n",
    "    mid_res = leave_one_out(model, X, y)\n",
    "    \n",
    "    radius_res.append((mid, mid_res))\n",
    "    \n",
    "    if mid_res < upper_res:\n",
    "        return find_radius_(X, y, mid, upper, mid_res, upper_res, radius_res)\n",
    "    else:\n",
    "        return find_radius_(X, y, lower, mid, lower_res, mid_res, radius_res)\n",
    "    \n",
    "def find_radius(X, y, lower, upper):\n",
    "    lower = float(lower)\n",
    "    upper = float(upper)\n",
    "    \n",
    "    lower_res = leave_one_out(RNN_model(lower), X, y)\n",
    "    upper_res = leave_one_out(RNN_model(upper), X, y)\n",
    "    \n",
    "    radius_res = [(lower, lower_res),(upper, upper_res)]\n",
    "    res = find_radius_(X, y, lower, upper, lower_res, upper_res, radius_res)\n",
    "    radius_res = sorted(radius_res, key=lambda x: x[0])\n",
    "    \n",
    "    plt.plot([x[0] for x in radius_res], [x[1] for x in radius_res])\n",
    "    return res"
   ]
  },
  {
   "cell_type": "code",
   "execution_count": 59,
   "metadata": {
    "collapsed": false
   },
   "outputs": [
    {
     "name": "stderr",
     "output_type": "stream",
     "text": [
      " [Elapsed Time: 0:03:11] 100%|###############################| (Time: 0:03:11) \n",
      " [Elapsed Time: 0:04:31] 100%|###############################| (Time: 0:04:31) \n",
      " [Elapsed Time: 0:03:55] 100%|###############################| (Time: 0:03:55) \n",
      " [Elapsed Time: 0:03:31] 100%|###############################| (Time: 0:03:31) \n",
      " [Elapsed Time: 0:03:18] 100%|###############################| (Time: 0:03:18) \n",
      " [Elapsed Time: 0:03:30] 100%|###############################| (Time: 0:03:30) \n",
      " [Elapsed Time: 0:03:27] 100%|###############################| (Time: 0:03:27) \n",
      " [Elapsed Time: 0:03:28] 100%|###############################| (Time: 0:03:28) \n",
      " [Elapsed Time: 0:03:27] 100%|###############################| (Time: 0:03:27) \n",
      " [Elapsed Time: 0:03:28] 100%|###############################| (Time: 0:03:28) \n"
     ]
    },
    {
     "data": {
      "text/plain": [
       "18.5546875"
      ]
     },
     "execution_count": 59,
     "metadata": {},
     "output_type": "execute_result"
    },
    {
     "data": {
      "image/png": "[encoded data removed]",
      "text/plain": [
       "<matplotlib.figure.Figure at 0x7fdaecbd4750>"
      ]
     },
     "metadata": {},
     "output_type": "display_data"
    }
   ],
   "source": [
    "find_radius(X, y, 0., 100.)"
   ]
  },
  {
   "cell_type": "code",
   "execution_count": null,
   "metadata": {
    "collapsed": false
   },
   "outputs": [],
   "source": []
  },
  {
   "cell_type": "code",
   "execution_count": null,
   "metadata": {
    "collapsed": true
   },
   "outputs": [],
   "source": []
  }
 ],
 "metadata": {
  "kernelspec": {
   "display_name": "Python 2",
   "language": "python",
   "name": "python2"
  },
  "language_info": {
   "codemirror_mode": {
    "name": "ipython",
    "version": 2
   },
   "file_extension": ".py",
   "mimetype": "text/x-python",
   "name": "python",
   "nbconvert_exporter": "python",
   "pygments_lexer": "ipython2",
   "version": "2.7.13"
  }
 },
 "nbformat": 4,
 "nbformat_minor": 2
}
