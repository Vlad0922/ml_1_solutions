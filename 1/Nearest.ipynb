{
 "cells": [
  {
   "cell_type": "code",
   "execution_count": 63,
   "metadata": {
    "collapsed": false
   },
   "outputs": [],
   "source": [
    "import numpy as np\n",
    "import pandas as pd\n",
    "\n",
    "import progressbar\n",
    "\n",
    "import heapq\n",
    "from collections import defaultdict\n",
    "\n",
    "from matplotlib import pyplot as plt\n",
    "%matplotlib inline\n",
    "\n",
    "from sklearn.neighbors import KNeighborsClassifier\n",
    "from sklearn.model_selection import LeaveOneOut, cross_val_score\n",
    "from sklearn.preprocessing import normalize\n",
    "from sklearn.neighbors import KDTree\n",
    "\n",
    "%reload_ext line_profiler"
   ]
  },
  {
   "cell_type": "code",
   "execution_count": 163,
   "metadata": {
    "collapsed": false
   },
   "outputs": [],
   "source": [
    "def euclidian_distance(x, y):\n",
    "    return np.linalg.norm(x-y)\n",
    "\n",
    "class NearestModel:\n",
    "    def __init__(self, k, use_kdtree=False):\n",
    "        self.k = k\n",
    "        self.use_kdtree = use_kdtree\n",
    "           \n",
    "    def train(self, X, y):\n",
    "        if self.use_kdtree:\n",
    "            self.tree = KDTree(X)\n",
    "        else:\n",
    "            self.X = X\n",
    "        self.y = y\n",
    "    \n",
    "    def predict(self, values):\n",
    "        return [self.predict_one(v) for v in values]\n",
    "    \n",
    "    def predict_one(self, value):\n",
    "        nearest = self._find_k_nearest(value)\n",
    "        weights = defaultdict(lambda : 0.)\n",
    "        \n",
    "        for n in nearest:\n",
    "            weights[self.y[n[1]]] += n[0]\n",
    "        \n",
    "        return max(weights, key=weights.get)\n",
    "    \n",
    "class KNN_model(NearestModel):\n",
    "    def _find_k_nearest(self, x):\n",
    "        if self.use_kdtree:\n",
    "            res = self.tree.query([x], self.k)\n",
    "            return [(1/(1+d), idx) for d, idx in zip(res[0][0], res[1][0])]\n",
    "        else:\n",
    "            return heapq.nlargest(self.k, [(1/(1+euclidian_distance(x, y)), idx) for idx, y in enumerate(self.X)])\n",
    "    \n",
    "class RNN_model(NearestModel):\n",
    "    def _find_k_nearest(self, x):\n",
    "        if self.use_kdtree:\n",
    "            res = self.tree.query_radius([x], self.k, return_distance=True)\n",
    "            return [(1/(1+d), idx) for idx, d in zip(res[0][0], res[1][0])]\n",
    "        else:\n",
    "            data = [(euclidian_distance(x, y), idx) for idx, y in enumerate(self.X) if euclidian_distance(x, y) <= self.k]    \n",
    "            return [(1/(1+v[0]), v[1]) for v in data]\n",
    "    \n",
    "    def predict_one(self, value):\n",
    "        nearest = self._find_k_nearest(value)\n",
    "        \n",
    "        if len(nearest) == 0:\n",
    "            return -1\n",
    "        \n",
    "        weights = defaultdict(lambda : 0.)\n",
    "        \n",
    "        for n in nearest:\n",
    "            weights[self.y[n[1]]] += n[0]\n",
    "        \n",
    "        return max(weights, key=weights.get)"
   ]
  },
  {
   "cell_type": "code",
   "execution_count": 164,
   "metadata": {
    "collapsed": false
   },
   "outputs": [],
   "source": [
    "def leave_one_out(model, X, y):\n",
    "    correct = 0\n",
    "    bar = progressbar.ProgressBar(widgets=[\n",
    "    ' [', progressbar.Timer(), '] ', progressbar.Percentage(),\n",
    "    progressbar.Bar(),\n",
    "    ' (', progressbar.ETA(), ') ',\n",
    "    ])\n",
    "    for idx in bar(xrange(len(X))):\n",
    "        X_test = X[idx]\n",
    "        y_test = y[idx]\n",
    "        \n",
    "        X_train = np.delete(X, (idx), axis=0)\n",
    "        y_train = np.delete(y, (idx), axis=0)\n",
    "        \n",
    "        model.train(X_train, y_train)\n",
    "        res = model.predict_one(X_test)\n",
    "        if res == y_test:\n",
    "            correct += 1\n",
    "    \n",
    "    return 1.*correct/len(y)"
   ]
  },
  {
   "cell_type": "code",
   "execution_count": 165,
   "metadata": {
    "collapsed": false
   },
   "outputs": [
    {
     "data": {
      "text/html": [
       "<div>\n",
       "<table border=\"1\" class=\"dataframe\">\n",
       "  <thead>\n",
       "    <tr style=\"text-align: right;\">\n",
       "      <th></th>\n",
       "      <th>word_freq_make</th>\n",
       "      <th>word_freq_address</th>\n",
       "      <th>word_freq_all</th>\n",
       "      <th>word_freq_3d</th>\n",
       "      <th>word_freq_our</th>\n",
       "      <th>word_freq_over</th>\n",
       "      <th>word_freq_remove</th>\n",
       "      <th>word_freq_internet</th>\n",
       "      <th>word_freq_order</th>\n",
       "      <th>word_freq_mail</th>\n",
       "      <th>...</th>\n",
       "      <th>char_freq_:</th>\n",
       "      <th>char_freq_(</th>\n",
       "      <th>char_freq_[</th>\n",
       "      <th>char_freq_!</th>\n",
       "      <th>char_freq_$</th>\n",
       "      <th>char_freq_#</th>\n",
       "      <th>capital_run_length_average</th>\n",
       "      <th>capital_run_length_longest</th>\n",
       "      <th>capital_run_length_total</th>\n",
       "      <th>label</th>\n",
       "    </tr>\n",
       "  </thead>\n",
       "  <tbody>\n",
       "    <tr>\n",
       "      <th>0</th>\n",
       "      <td>0.00</td>\n",
       "      <td>0.64</td>\n",
       "      <td>0.64</td>\n",
       "      <td>0.0</td>\n",
       "      <td>0.32</td>\n",
       "      <td>0.00</td>\n",
       "      <td>0.00</td>\n",
       "      <td>0.00</td>\n",
       "      <td>0.00</td>\n",
       "      <td>0.00</td>\n",
       "      <td>...</td>\n",
       "      <td>0.00</td>\n",
       "      <td>0.000</td>\n",
       "      <td>0.0</td>\n",
       "      <td>0.778</td>\n",
       "      <td>0.000</td>\n",
       "      <td>0.000</td>\n",
       "      <td>3.756</td>\n",
       "      <td>61</td>\n",
       "      <td>278</td>\n",
       "      <td>1</td>\n",
       "    </tr>\n",
       "    <tr>\n",
       "      <th>1</th>\n",
       "      <td>0.21</td>\n",
       "      <td>0.28</td>\n",
       "      <td>0.50</td>\n",
       "      <td>0.0</td>\n",
       "      <td>0.14</td>\n",
       "      <td>0.28</td>\n",
       "      <td>0.21</td>\n",
       "      <td>0.07</td>\n",
       "      <td>0.00</td>\n",
       "      <td>0.94</td>\n",
       "      <td>...</td>\n",
       "      <td>0.00</td>\n",
       "      <td>0.132</td>\n",
       "      <td>0.0</td>\n",
       "      <td>0.372</td>\n",
       "      <td>0.180</td>\n",
       "      <td>0.048</td>\n",
       "      <td>5.114</td>\n",
       "      <td>101</td>\n",
       "      <td>1028</td>\n",
       "      <td>1</td>\n",
       "    </tr>\n",
       "    <tr>\n",
       "      <th>2</th>\n",
       "      <td>0.06</td>\n",
       "      <td>0.00</td>\n",
       "      <td>0.71</td>\n",
       "      <td>0.0</td>\n",
       "      <td>1.23</td>\n",
       "      <td>0.19</td>\n",
       "      <td>0.19</td>\n",
       "      <td>0.12</td>\n",
       "      <td>0.64</td>\n",
       "      <td>0.25</td>\n",
       "      <td>...</td>\n",
       "      <td>0.01</td>\n",
       "      <td>0.143</td>\n",
       "      <td>0.0</td>\n",
       "      <td>0.276</td>\n",
       "      <td>0.184</td>\n",
       "      <td>0.010</td>\n",
       "      <td>9.821</td>\n",
       "      <td>485</td>\n",
       "      <td>2259</td>\n",
       "      <td>1</td>\n",
       "    </tr>\n",
       "    <tr>\n",
       "      <th>3</th>\n",
       "      <td>0.00</td>\n",
       "      <td>0.00</td>\n",
       "      <td>0.00</td>\n",
       "      <td>0.0</td>\n",
       "      <td>0.63</td>\n",
       "      <td>0.00</td>\n",
       "      <td>0.31</td>\n",
       "      <td>0.63</td>\n",
       "      <td>0.31</td>\n",
       "      <td>0.63</td>\n",
       "      <td>...</td>\n",
       "      <td>0.00</td>\n",
       "      <td>0.137</td>\n",
       "      <td>0.0</td>\n",
       "      <td>0.137</td>\n",
       "      <td>0.000</td>\n",
       "      <td>0.000</td>\n",
       "      <td>3.537</td>\n",
       "      <td>40</td>\n",
       "      <td>191</td>\n",
       "      <td>1</td>\n",
       "    </tr>\n",
       "    <tr>\n",
       "      <th>4</th>\n",
       "      <td>0.00</td>\n",
       "      <td>0.00</td>\n",
       "      <td>0.00</td>\n",
       "      <td>0.0</td>\n",
       "      <td>0.63</td>\n",
       "      <td>0.00</td>\n",
       "      <td>0.31</td>\n",
       "      <td>0.63</td>\n",
       "      <td>0.31</td>\n",
       "      <td>0.63</td>\n",
       "      <td>...</td>\n",
       "      <td>0.00</td>\n",
       "      <td>0.135</td>\n",
       "      <td>0.0</td>\n",
       "      <td>0.135</td>\n",
       "      <td>0.000</td>\n",
       "      <td>0.000</td>\n",
       "      <td>3.537</td>\n",
       "      <td>40</td>\n",
       "      <td>191</td>\n",
       "      <td>1</td>\n",
       "    </tr>\n",
       "  </tbody>\n",
       "</table>\n",
       "<p>5 rows × 58 columns</p>\n",
       "</div>"
      ],
      "text/plain": [
       "   word_freq_make  word_freq_address  word_freq_all  word_freq_3d  \\\n",
       "0            0.00               0.64           0.64           0.0   \n",
       "1            0.21               0.28           0.50           0.0   \n",
       "2            0.06               0.00           0.71           0.0   \n",
       "3            0.00               0.00           0.00           0.0   \n",
       "4            0.00               0.00           0.00           0.0   \n",
       "\n",
       "   word_freq_our  word_freq_over  word_freq_remove  word_freq_internet  \\\n",
       "0           0.32            0.00              0.00                0.00   \n",
       "1           0.14            0.28              0.21                0.07   \n",
       "2           1.23            0.19              0.19                0.12   \n",
       "3           0.63            0.00              0.31                0.63   \n",
       "4           0.63            0.00              0.31                0.63   \n",
       "\n",
       "   word_freq_order  word_freq_mail  ...    char_freq_:  char_freq_(  \\\n",
       "0             0.00            0.00  ...           0.00        0.000   \n",
       "1             0.00            0.94  ...           0.00        0.132   \n",
       "2             0.64            0.25  ...           0.01        0.143   \n",
       "3             0.31            0.63  ...           0.00        0.137   \n",
       "4             0.31            0.63  ...           0.00        0.135   \n",
       "\n",
       "   char_freq_[  char_freq_!  char_freq_$  char_freq_#  \\\n",
       "0          0.0        0.778        0.000        0.000   \n",
       "1          0.0        0.372        0.180        0.048   \n",
       "2          0.0        0.276        0.184        0.010   \n",
       "3          0.0        0.137        0.000        0.000   \n",
       "4          0.0        0.135        0.000        0.000   \n",
       "\n",
       "   capital_run_length_average  capital_run_length_longest  \\\n",
       "0                       3.756                          61   \n",
       "1                       5.114                         101   \n",
       "2                       9.821                         485   \n",
       "3                       3.537                          40   \n",
       "4                       3.537                          40   \n",
       "\n",
       "   capital_run_length_total  label  \n",
       "0                       278      1  \n",
       "1                      1028      1  \n",
       "2                      2259      1  \n",
       "3                       191      1  \n",
       "4                       191      1  \n",
       "\n",
       "[5 rows x 58 columns]"
      ]
     },
     "execution_count": 165,
     "metadata": {},
     "output_type": "execute_result"
    }
   ],
   "source": [
    "data = pd.read_csv('spambase.csv')\n",
    "data.head()"
   ]
  },
  {
   "cell_type": "code",
   "execution_count": 166,
   "metadata": {
    "collapsed": false
   },
   "outputs": [],
   "source": [
    "X = data.drop(['label'], axis=1).as_matrix()\n",
    "y = data['label'].as_matrix()"
   ]
  },
  {
   "cell_type": "code",
   "execution_count": 173,
   "metadata": {
    "collapsed": false
   },
   "outputs": [],
   "source": [
    "def compare_models(X, y, k_values, r_values, use_kdtree=False):\n",
    "    knn_res = list()\n",
    "    sk_res = list()\n",
    "    for k, r in zip(k_values, r_values):\n",
    "        print 'LOO for with k={}'.format(k)\n",
    "        model = KNN_model(k, use_kdtree=use_kdtree)\n",
    "        knn_acc = leave_one_out(model, X, y)\n",
    "        \n",
    "        sk_clf = KNeighborsClassifier(k)\n",
    "        loo = LeaveOneOut()\n",
    "        sk_acc = np.mean(cross_val_score(sk_clf, X, y, cv = loo, n_jobs=4))\n",
    "        \n",
    "        knn_res.append(knn_acc)\n",
    "        sk_res.append(sk_acc)\n",
    "    \n",
    "    plt.plot(k_values, knn_res, label='knn model')\n",
    "    plt.plot(k_values, sk_res, label='scikit model')\n",
    "    plt.legend()\n",
    "    \n",
    "    axes = plt.gca()\n",
    "    axes.set_ylim([0.7, 0.9])"
   ]
  },
  {
   "cell_type": "code",
   "execution_count": 201,
   "metadata": {
    "collapsed": false
   },
   "outputs": [
    {
     "name": "stdout",
     "output_type": "stream",
     "text": [
      "LOO for with k=1\n"
     ]
    },
    {
     "name": "stderr",
     "output_type": "stream",
     "text": [
      " [Elapsed Time: 0:03:30] 100%|###############################| (Time: 0:03:30) \n"
     ]
    },
    {
     "name": "stdout",
     "output_type": "stream",
     "text": [
      "LOO for with k=2\n"
     ]
    },
    {
     "name": "stderr",
     "output_type": "stream",
     "text": [
      " [Elapsed Time: 0:03:32] 100%|###############################| (Time: 0:03:32) \n"
     ]
    },
    {
     "name": "stdout",
     "output_type": "stream",
     "text": [
      "LOO for with k=3\n"
     ]
    },
    {
     "name": "stderr",
     "output_type": "stream",
     "text": [
      " [Elapsed Time: 0:03:28] 100%|###############################| (Time: 0:03:28) \n"
     ]
    },
    {
     "name": "stdout",
     "output_type": "stream",
     "text": [
      "LOO for with k=4\n"
     ]
    },
    {
     "name": "stderr",
     "output_type": "stream",
     "text": [
      " [Elapsed Time: 0:03:35] 100%|###############################| (Time: 0:03:35) \n"
     ]
    },
    {
     "name": "stdout",
     "output_type": "stream",
     "text": [
      "LOO for with k=5\n"
     ]
    },
    {
     "name": "stderr",
     "output_type": "stream",
     "text": [
      " [Elapsed Time: 0:03:37] 100%|###############################| (Time: 0:03:37) \n"
     ]
    },
    {
     "name": "stdout",
     "output_type": "stream",
     "text": [
      "LOO for with k=6\n"
     ]
    },
    {
     "name": "stderr",
     "output_type": "stream",
     "text": [
      " [Elapsed Time: 0:03:33] 100%|###############################| (Time: 0:03:33) \n"
     ]
    },
    {
     "name": "stdout",
     "output_type": "stream",
     "text": [
      "LOO for with k=7\n"
     ]
    },
    {
     "name": "stderr",
     "output_type": "stream",
     "text": [
      " [Elapsed Time: 0:03:36] 100%|###############################| (Time: 0:03:36) \n"
     ]
    },
    {
     "name": "stdout",
     "output_type": "stream",
     "text": [
      "LOO for with k=8\n"
     ]
    },
    {
     "name": "stderr",
     "output_type": "stream",
     "text": [
      " [Elapsed Time: 0:03:41] 100%|###############################| (Time: 0:03:41) \n"
     ]
    },
    {
     "name": "stdout",
     "output_type": "stream",
     "text": [
      "LOO for with k=9\n"
     ]
    },
    {
     "name": "stderr",
     "output_type": "stream",
     "text": [
      " [Elapsed Time: 0:03:42] 100%|###############################| (Time: 0:03:42) \n"
     ]
    },
    {
     "name": "stdout",
     "output_type": "stream",
     "text": [
      "LOO for with k=10\n"
     ]
    },
    {
     "name": "stderr",
     "output_type": "stream",
     "text": [
      " [Elapsed Time: 0:03:38] 100%|###############################| (Time: 0:03:38) \n"
     ]
    },
    {
     "data": {
      "image/png": "[encoded data removed]",
      "text/plain": [
       "<matplotlib.figure.Figure at 0x7f734acf8850>"
      ]
     },
     "metadata": {},
     "output_type": "display_data"
    }
   ],
   "source": [
    "k_values = range(1, 11)\n",
    "compare_models(X, y, k_values, r_values, use_kdtree=False)"
   ]
  },
  {
   "cell_type": "code",
   "execution_count": 174,
   "metadata": {
    "collapsed": false
   },
   "outputs": [
    {
     "name": "stdout",
     "output_type": "stream",
     "text": [
      "LOO for with k=1\n"
     ]
    },
    {
     "name": "stderr",
     "output_type": "stream",
     "text": [
      " [Elapsed Time: 0:00:31] 100%|###############################| (Time: 0:00:31) \n"
     ]
    },
    {
     "name": "stdout",
     "output_type": "stream",
     "text": [
      "LOO for with k=2\n"
     ]
    },
    {
     "name": "stderr",
     "output_type": "stream",
     "text": [
      " [Elapsed Time: 0:00:32] 100%|###############################| (Time: 0:00:32) \n"
     ]
    },
    {
     "name": "stdout",
     "output_type": "stream",
     "text": [
      "LOO for with k=3\n"
     ]
    },
    {
     "name": "stderr",
     "output_type": "stream",
     "text": [
      " [Elapsed Time: 0:00:31] 100%|###############################| (Time: 0:00:31) \n"
     ]
    },
    {
     "name": "stdout",
     "output_type": "stream",
     "text": [
      "LOO for with k=4\n"
     ]
    },
    {
     "name": "stderr",
     "output_type": "stream",
     "text": [
      " [Elapsed Time: 0:00:31] 100%|###############################| (Time: 0:00:31) \n"
     ]
    },
    {
     "name": "stdout",
     "output_type": "stream",
     "text": [
      "LOO for with k=5\n"
     ]
    },
    {
     "name": "stderr",
     "output_type": "stream",
     "text": [
      " [Elapsed Time: 0:00:32] 100%|###############################| (Time: 0:00:32) \n"
     ]
    },
    {
     "name": "stdout",
     "output_type": "stream",
     "text": [
      "LOO for with k=6\n"
     ]
    },
    {
     "name": "stderr",
     "output_type": "stream",
     "text": [
      " [Elapsed Time: 0:00:31] 100%|###############################| (Time: 0:00:31) \n"
     ]
    },
    {
     "name": "stdout",
     "output_type": "stream",
     "text": [
      "LOO for with k=7\n"
     ]
    },
    {
     "name": "stderr",
     "output_type": "stream",
     "text": [
      " [Elapsed Time: 0:00:32] 100%|###############################| (Time: 0:00:32) \n"
     ]
    },
    {
     "name": "stdout",
     "output_type": "stream",
     "text": [
      "LOO for with k=8\n"
     ]
    },
    {
     "name": "stderr",
     "output_type": "stream",
     "text": [
      " [Elapsed Time: 0:00:32] 100%|###############################| (Time: 0:00:32) \n"
     ]
    },
    {
     "name": "stdout",
     "output_type": "stream",
     "text": [
      "LOO for with k=9\n"
     ]
    },
    {
     "name": "stderr",
     "output_type": "stream",
     "text": [
      " [Elapsed Time: 0:00:31] 100%|###############################| (Time: 0:00:31) \n"
     ]
    },
    {
     "name": "stdout",
     "output_type": "stream",
     "text": [
      "LOO for with k=10\n"
     ]
    },
    {
     "name": "stderr",
     "output_type": "stream",
     "text": [
      " [Elapsed Time: 0:00:31] 100%|###############################| (Time: 0:00:31) \n"
     ]
    },
    {
     "data": {
      "image/png": "[encoded data removed]",
      "text/plain": [
       "<matplotlib.figure.Figure at 0x7f72d93e63d0>"
      ]
     },
     "metadata": {},
     "output_type": "display_data"
    }
   ],
   "source": [
    "k_values = range(1, 11)\n",
    "compare_models(X, y, k_values, use_kdtree=True)"
   ]
  },
  {
   "cell_type": "code",
   "execution_count": 175,
   "metadata": {
    "collapsed": false
   },
   "outputs": [
    {
     "name": "stdout",
     "output_type": "stream",
     "text": [
      "LOO for with k=1\n"
     ]
    },
    {
     "name": "stderr",
     "output_type": "stream",
     "text": [
      " [Elapsed Time: 0:01:31] 100%|###############################| (Time: 0:01:31) \n"
     ]
    },
    {
     "name": "stdout",
     "output_type": "stream",
     "text": [
      "LOO for with k=2\n"
     ]
    },
    {
     "name": "stderr",
     "output_type": "stream",
     "text": [
      " [Elapsed Time: 0:01:30] 100%|###############################| (Time: 0:01:30) \n"
     ]
    },
    {
     "name": "stdout",
     "output_type": "stream",
     "text": [
      "LOO for with k=3\n"
     ]
    },
    {
     "name": "stderr",
     "output_type": "stream",
     "text": [
      " [Elapsed Time: 0:01:31] 100%|###############################| (Time: 0:01:31) \n"
     ]
    },
    {
     "name": "stdout",
     "output_type": "stream",
     "text": [
      "LOO for with k=4\n"
     ]
    },
    {
     "name": "stderr",
     "output_type": "stream",
     "text": [
      " [Elapsed Time: 0:01:31] 100%|###############################| (Time: 0:01:31) \n"
     ]
    },
    {
     "name": "stdout",
     "output_type": "stream",
     "text": [
      "LOO for with k=5\n"
     ]
    },
    {
     "name": "stderr",
     "output_type": "stream",
     "text": [
      " [Elapsed Time: 0:01:30] 100%|###############################| (Time: 0:01:30) \n"
     ]
    },
    {
     "name": "stdout",
     "output_type": "stream",
     "text": [
      "LOO for with k=6\n"
     ]
    },
    {
     "name": "stderr",
     "output_type": "stream",
     "text": [
      " [Elapsed Time: 0:01:32] 100%|###############################| (Time: 0:01:32) \n"
     ]
    },
    {
     "name": "stdout",
     "output_type": "stream",
     "text": [
      "LOO for with k=7\n"
     ]
    },
    {
     "name": "stderr",
     "output_type": "stream",
     "text": [
      " [Elapsed Time: 0:01:32] 100%|###############################| (Time: 0:01:32) \n"
     ]
    },
    {
     "name": "stdout",
     "output_type": "stream",
     "text": [
      "LOO for with k=8\n"
     ]
    },
    {
     "name": "stderr",
     "output_type": "stream",
     "text": [
      " [Elapsed Time: 0:01:31] 100%|###############################| (Time: 0:01:31) \n"
     ]
    },
    {
     "name": "stdout",
     "output_type": "stream",
     "text": [
      "LOO for with k=9\n"
     ]
    },
    {
     "name": "stderr",
     "output_type": "stream",
     "text": [
      " [Elapsed Time: 0:01:29] 100%|###############################| (Time: 0:01:29) \n"
     ]
    },
    {
     "name": "stdout",
     "output_type": "stream",
     "text": [
      "LOO for with k=10\n"
     ]
    },
    {
     "name": "stderr",
     "output_type": "stream",
     "text": [
      " [Elapsed Time: 0:01:28] 100%|###############################| (Time: 0:01:28) \n"
     ]
    },
    {
     "data": {
      "image/png": "[encoded data removed]",
      "text/plain": [
       "<matplotlib.figure.Figure at 0x7f7348b99150>"
      ]
     },
     "metadata": {},
     "output_type": "display_data"
    }
   ],
   "source": [
    "r_values = range(1, 11)\n",
    "compare_models(normalize(X), y, k_values, r_values, use_kdtree=True)"
   ]
  },
  {
   "cell_type": "code",
   "execution_count": 195,
   "metadata": {
    "collapsed": false
   },
   "outputs": [],
   "source": [
    "def find_radius(X, y, lower, upper, eps):\n",
    "    l = float(lower)\n",
    "    r = float(upper)\n",
    "    \n",
    "    loo_cache = dict()\n",
    "    \n",
    "    while r - l > eps:\n",
    "        m_l = l + (r-l)/3\n",
    "        m_r = r - (r-l)/2\n",
    "        \n",
    "        m_l_res = loo_cache[m_l] = leave_one_out(RNN_model(m_l, use_kdtree=True), X, y)        \n",
    "        m_r_res = loo_cache[m_r] = leave_one_out(RNN_model(m_r, use_kdtree=True), X, y)\n",
    "        \n",
    "#         print (m_l, m_l_res)\n",
    "#         print (m_r, m_r_res)\n",
    "\n",
    "        if m_l_res < m_r_res:\n",
    "            l = m_l\n",
    "        else:\n",
    "            r = m_r\n",
    "    \n",
    "    res = sorted(loo_cache.items(), key=lambda x:x[0])\n",
    "    plt.plot([v[0] for v in res], [v[1] for v in res])\n",
    "    \n",
    "    return l, loo_cache[l]"
   ]
  },
  {
   "cell_type": "code",
   "execution_count": 196,
   "metadata": {
    "collapsed": false
   },
   "outputs": [
    {
     "name": "stderr",
     "output_type": "stream",
     "text": [
      " [Elapsed Time: 0:00:37] 100%|###############################| (Time: 0:00:37) \n",
      " [Elapsed Time: 0:00:39] 100%|###############################| (Time: 0:00:39) \n",
      " [Elapsed Time: 0:00:41] 100%|###############################| (Time: 0:00:41) \n",
      " [Elapsed Time: 0:00:42] 100%|###############################| (Time: 0:00:42) \n",
      " [Elapsed Time: 0:00:39] 100%|###############################| (Time: 0:00:39) \n",
      " [Elapsed Time: 0:00:40] 100%|###############################| (Time: 0:00:40) \n",
      " [Elapsed Time: 0:00:37] 100%|###############################| (Time: 0:00:37) \n",
      " [Elapsed Time: 0:00:38] 100%|###############################| (Time: 0:00:38) \n",
      " [Elapsed Time: 0:00:38] 100%|###############################| (Time: 0:00:38) \n",
      " [Elapsed Time: 0:00:38] 100%|###############################| (Time: 0:00:38) \n",
      " [Elapsed Time: 0:00:37] 100%|###############################| (Time: 0:00:37) \n",
      " [Elapsed Time: 0:00:37] 100%|###############################| (Time: 0:00:37) \n",
      " [Elapsed Time: 0:00:37] 100%|###############################| (Time: 0:00:37) \n",
      " [Elapsed Time: 0:00:37] 100%|###############################| (Time: 0:00:37) \n",
      " [Elapsed Time: 0:00:37] 100%|###############################| (Time: 0:00:37) \n",
      " [Elapsed Time: 0:00:37] 100%|###############################| (Time: 0:00:37) \n",
      " [Elapsed Time: 0:00:37] 100%|###############################| (Time: 0:00:37) \n",
      " [Elapsed Time: 0:00:37] 100%|###############################| (Time: 0:00:37) \n",
      " [Elapsed Time: 0:00:37] 100%|###############################| (Time: 0:00:37) \n",
      " [Elapsed Time: 0:00:38] 100%|###############################| (Time: 0:00:38) \n",
      " [Elapsed Time: 0:00:37] 100%|###############################| (Time: 0:00:37) \n",
      " [Elapsed Time: 0:00:37] 100%|###############################| (Time: 0:00:37) \n",
      " [Elapsed Time: 0:00:37] 100%|###############################| (Time: 0:00:37) \n",
      " [Elapsed Time: 0:00:36] 100%|###############################| (Time: 0:00:36) \n",
      " [Elapsed Time: 0:00:36] 100%|###############################| (Time: 0:00:36) \n",
      " [Elapsed Time: 0:00:36] 100%|###############################| (Time: 0:00:36) \n",
      " [Elapsed Time: 0:00:36] 100%|###############################| (Time: 0:00:36) \n",
      " [Elapsed Time: 0:00:36] 100%|###############################| (Time: 0:00:36) \n",
      " [Elapsed Time: 0:00:36] 100%|###############################| (Time: 0:00:36) \n",
      " [Elapsed Time: 0:00:35] 100%|###############################| (Time: 0:00:35) \n"
     ]
    },
    {
     "data": {
      "image/png": "[encoded data removed]",
      "text/plain": [
       "<matplotlib.figure.Figure at 0x7f7348dbd710>"
      ]
     },
     "metadata": {},
     "output_type": "display_data"
    }
   ],
   "source": [
    "best_radius, accuracy = find_radius(X, y, 1., 100., eps=0.05)"
   ]
  },
  {
   "cell_type": "code",
   "execution_count": 199,
   "metadata": {
    "collapsed": false
   },
   "outputs": [
    {
     "name": "stderr",
     "output_type": "stream",
     "text": [
      " [Elapsed Time: 0:01:36] 100%|###############################| (Time: 0:01:36) \n",
      " [Elapsed Time: 0:01:39] 100%|###############################| (Time: 0:01:39) \n",
      " [Elapsed Time: 0:01:40] 100%|###############################| (Time: 0:01:40) \n",
      " [Elapsed Time: 0:01:41] 100%|###############################| (Time: 0:01:41) \n",
      " [Elapsed Time: 0:01:38] 100%|###############################| (Time: 0:01:38) \n",
      " [Elapsed Time: 0:01:39] 100%|###############################| (Time: 0:01:39) \n",
      " [Elapsed Time: 0:01:39] 100%|###############################| (Time: 0:01:39) \n",
      " [Elapsed Time: 0:01:40] 100%|###############################| (Time: 0:01:40) \n",
      " [Elapsed Time: 0:01:39] 100%|###############################| (Time: 0:01:39) \n",
      " [Elapsed Time: 0:01:39] 100%|###############################| (Time: 0:01:39) \n",
      " [Elapsed Time: 0:01:39] 100%|###############################| (Time: 0:01:39) \n",
      " [Elapsed Time: 0:01:39] 100%|###############################| (Time: 0:01:39) \n",
      " [Elapsed Time: 0:01:38] 100%|###############################| (Time: 0:01:38) \n",
      " [Elapsed Time: 0:01:39] 100%|###############################| (Time: 0:01:39) \n",
      " [Elapsed Time: 0:01:39] 100%|###############################| (Time: 0:01:39) \n",
      " [Elapsed Time: 0:01:38] 100%|###############################| (Time: 0:01:38) \n",
      " [Elapsed Time: 0:01:38] 100%|###############################| (Time: 0:01:38) \n",
      " [Elapsed Time: 0:01:38] 100%|###############################| (Time: 0:01:38) \n"
     ]
    },
    {
     "data": {
      "image/png": "[encoded data removed]",
      "text/plain": [
       "<matplotlib.figure.Figure at 0x7f7345b276d0>"
      ]
     },
     "metadata": {},
     "output_type": "display_data"
    }
   ],
   "source": [
    "best_radius, accuracy = find_radius(normalize(X), y, 0.001, 1., eps=0.005)"
   ]
  },
  {
   "cell_type": "code",
   "execution_count": null,
   "metadata": {
    "collapsed": false
   },
   "outputs": [],
   "source": []
  }
 ],
 "metadata": {
  "kernelspec": {
   "display_name": "Python 2",
   "language": "python",
   "name": "python2"
  },
  "language_info": {
   "codemirror_mode": {
    "name": "ipython",
    "version": 2
   },
   "file_extension": ".py",
   "mimetype": "text/x-python",
   "name": "python",
   "nbconvert_exporter": "python",
   "pygments_lexer": "ipython2",
   "version": "2.7.13"
  }
 },
 "nbformat": 4,
 "nbformat_minor": 2
}
